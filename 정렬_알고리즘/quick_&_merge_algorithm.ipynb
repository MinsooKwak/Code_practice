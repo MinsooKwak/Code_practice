{
  "nbformat": 4,
  "nbformat_minor": 0,
  "metadata": {
    "colab": {
      "name": "quick & merge algorithm.ipynb",
      "provenance": [],
      "collapsed_sections": [],
      "authorship_tag": "ABX9TyMRxxidpFOneno7E1h+mrsJ",
      "include_colab_link": true
    },
    "kernelspec": {
      "name": "python3",
      "display_name": "Python 3"
    },
    "language_info": {
      "name": "python"
    }
  },
  "cells": [
    {
      "cell_type": "markdown",
      "metadata": {
        "id": "view-in-github",
        "colab_type": "text"
      },
      "source": [
        "<a href=\"https://colab.research.google.com/github/MinsooKwak/Code_practice/blob/main/quick_%26_merge_algorithm.ipynb\" target=\"_parent\"><img src=\"https://colab.research.google.com/assets/colab-badge.svg\" alt=\"Open In Colab\"/></a>"
      ]
    },
    {
      "cell_type": "markdown",
      "source": [
        "### 퀵 정렬"
      ],
      "metadata": {
        "id": "5i1FSkgTKOsR"
      }
    },
    {
      "cell_type": "markdown",
      "source": [
        "- input : 정렬 안된 리스트\n",
        "- 오름차순으로 정렬된 리스트 반환\n",
        "- 재귀함수 사용"
      ],
      "metadata": {
        "id": "Wd8RGaNDLo-6"
      }
    },
    {
      "cell_type": "code",
      "execution_count": 1,
      "metadata": {
        "colab": {
          "base_uri": "https://localhost:8080/"
        },
        "id": "3fKaYNGzsqkQ",
        "outputId": "eb6a57fb-7f81-4c22-be1b-06e6d5bd1ccf"
      },
      "outputs": [
        {
          "output_type": "execute_result",
          "data": {
            "text/plain": [
              "[1, 2, 4, 5, 7, 9, 17, 38]"
            ]
          },
          "metadata": {},
          "execution_count": 1
        }
      ],
      "source": [
        "def quick_sort(li):\n",
        "    li_length = len(li)   # 리스트의 길이\n",
        "    \n",
        "    if li_length <= 1:    # 만약 리스트의 길이가 1이하이면\n",
        "      return li           # 리스트 반환 # 피벗 중심으로 영역을 개별적으로 나눠줘야 함\n",
        "    else:                 # 리스트의 길이가 1을 넘어서면\n",
        "      pivot = li[0]       # 파티션을 나눌 pivot을 설정해줌\n",
        "\n",
        "      # greater, lesser 설정\n",
        "      # pivot이 li[0]이기 때문에 greater와 lesser를 구할 때 li[1:]부터 활용한다.\n",
        "      greater = [element for element in li[1:] if element > pivot]  # 만약 원소가 기준인 pivot보다 클 경우\n",
        "      lesser = [element for element in li[1:] if element <= pivot]  # 만약 원소가 기준이 pivot보다 작거나 같을 경우\n",
        "      return quick_sort(lesser) + [pivot] + quick_sort(greater)     # 재귀함수 활용 \n",
        "\n",
        "li_1 = [5, 7, 9, 2, 17, 38, 4, 1]\n",
        "quick_sort(li_1)"
      ]
    },
    {
      "cell_type": "markdown",
      "source": [
        "[퀵 정렬에 관한 블로그 (구현) ](https://data-marketing-bk.tistory.com/33?category=901221)"
      ],
      "metadata": {
        "id": "yYQWsI6sKVFc"
      }
    },
    {
      "cell_type": "markdown",
      "source": [
        "- 오름차순으로 정렬되어 있는 리스트를 받아 함치는 merge 함수\n",
        "- 합쳐진 리스트는 오름차순으로 정렬되어 있음"
      ],
      "metadata": {
        "id": "gttoS5-pL4VT"
      }
    },
    {
      "cell_type": "code",
      "source": [
        "def merge(left, right):\n",
        "  \n",
        "    # 우선 좌측의 리스트와 우측의 리스트가 오름차순으로 정렬되어있는 상태이기 때문에\n",
        "    # 정렬된 리스트를 활용하여 좌, 우측 sort를 진행하여 리스트에 작은 값을 삽입하고\n",
        "    # 남은 값을 리스트에 다시 합치는 과정을 재귀적으로 반복해야 한다.\n",
        "\n",
        "    i = j = 0           # 좌측 리스트와 우측 리스트를 반복할 변수 0으로 초기화\n",
        "    sorted_list = []    # 정렬 리스트 형성\n",
        "\n",
        "    while i < len(left) and j < len(right): # 리스트의 길이보다 작은 범위에서 반복\n",
        "      if left[i] < right[j]:                # 좌측이 작은 경우\n",
        "        sorted_list.append(left[i])         # 작은 수를 append\n",
        "        i += 1                              # 정렬했으니 다음 인덱스로 넘어감\n",
        "\n",
        "      else:                                 # 우측이 작은 경우\n",
        "        sorted_list.append(right[j])       # 작은 우측을 append\n",
        "        j += 1                              # 정렬했으니 다음 인덱스로 넘어감\n",
        "    \n",
        "    # 한쪽 데이터만 남은 경우를 생각해야 함\n",
        "    # 우측 데이터가 남았을 때\n",
        "    while len(right) > j:                   # 인덱스가 리스트 길이보다 작은 경우에만 실행\n",
        "      sorted_list.append(right[j])          # 남은 인덱스에 맞는 우측 값을 리스트에 넣어줌\n",
        "      j += 1                               # 다음 인덱스로 넘어감\n",
        "\n",
        "    # 좌측 데이터가 남았을 때\n",
        "    while len(left) > i:                    # 인덱스가 리스트 길이보다 작은 경우에만 실행\n",
        "      sorted_list.append(left[i])           # 남은 인덱스에 맞는 좌측 값을 리스트에 삽입\n",
        "      i += 1                                # 다 진행했으니 다음 인덱스\n",
        "    return sorted_list\n",
        "\n",
        "l = [4,6,7,10]\n",
        "r = [1,3,9,12]\n",
        "merge(l,r)"
      ],
      "metadata": {
        "colab": {
          "base_uri": "https://localhost:8080/"
        },
        "id": "Npg1lL6Sv0jE",
        "outputId": "c3e42b60-429b-437a-8865-35c58c0fc5d1"
      },
      "execution_count": 2,
      "outputs": [
        {
          "output_type": "execute_result",
          "data": {
            "text/plain": [
              "[1, 3, 4, 6, 7, 9, 10, 12]"
            ]
          },
          "metadata": {},
          "execution_count": 2
        }
      ]
    },
    {
      "cell_type": "markdown",
      "source": [
        "- 앞에서 구현한 merge함수를 사용하여 병합정렬(merge sort) 구현\n",
        "- input : 정렬되지 않은 리스트\n",
        "- output: 오름차순으로 정렬된 리스트"
      ],
      "metadata": {
        "id": "bqXSPrcOMGio"
      }
    },
    {
      "cell_type": "code",
      "source": [
        "def merge_sort(li):\n",
        "  \n",
        "    list_length = len(li)\n",
        "\n",
        "    # base case : list의 길이가 1인 경우\n",
        "    if list_length ==1:\n",
        "      return li\n",
        "    \n",
        "    # other case : list의 길이가 1이 아닌 경우\n",
        "    middle = list_length//2         # 중간지점 middle에 저장\n",
        "    left = merge_sort(li[:middle])  # 중간지점 기준 좌측을 left로 설정\n",
        "    right = merge_sort(li[middle:]) # 중간지점 기준 우측을 right로 설정\n",
        "\n",
        "    return merge(left,right)        # 앞서 호출한 함수 사용 # 분할정복 개념\n",
        "\n",
        "\n",
        "li_3 = [3,6,37,96,5,2,7,17,1]\n",
        "merge_sort(li_3)"
      ],
      "metadata": {
        "colab": {
          "base_uri": "https://localhost:8080/"
        },
        "id": "G5-DTVwxF8QU",
        "outputId": "e5d1b094-f83f-42cd-9d7f-c04cb8647243"
      },
      "execution_count": 3,
      "outputs": [
        {
          "output_type": "execute_result",
          "data": {
            "text/plain": [
              "[1, 2, 3, 5, 6, 7, 17, 37, 96]"
            ]
          },
          "metadata": {},
          "execution_count": 3
        }
      ]
    },
    {
      "cell_type": "markdown",
      "source": [
        "[병합 정렬에 대한 블로그 (구현) ](https://data-marketing-bk.tistory.com/31)"
      ],
      "metadata": {
        "id": "1roV5T-DKd31"
      }
    }
  ]
}
