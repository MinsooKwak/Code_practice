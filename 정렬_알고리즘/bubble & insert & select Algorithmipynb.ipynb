{
  "nbformat": 4,
  "nbformat_minor": 0,
  "metadata": {
    "colab": {
      "name": "정렬_알고리즘ipynb",
      "provenance": [],
      "collapsed_sections": [],
      "authorship_tag": "ABX9TyOri8SedzV0r0bTKJBdvw9m",
      "include_colab_link": true
    },
    "kernelspec": {
      "name": "python3",
      "display_name": "Python 3"
    },
    "language_info": {
      "name": "python"
    }
  },
  "cells": [
    {
      "cell_type": "markdown",
      "metadata": {
        "id": "view-in-github",
        "colab_type": "text"
      },
      "source": [
        "<a href=\"https://colab.research.google.com/github/MinsooKwak/Code_practice/blob/main/%EC%A0%95%EB%A0%AC_%EC%95%8C%EA%B3%A0%EB%A6%AC%EC%A6%98ipynb.ipynb\" target=\"_parent\"><img src=\"https://colab.research.google.com/assets/colab-badge.svg\" alt=\"Open In Colab\"/></a>"
      ]
    },
    {
      "cell_type": "markdown",
      "source": [
        "- 내장함수 x\n",
        "- 반복문과 조건문만 활용하여"
      ],
      "metadata": {
        "id": "Lk6zVK2aHNu5"
      }
    },
    {
      "cell_type": "markdown",
      "source": [
        "### 버블정렬"
      ],
      "metadata": {
        "id": "weDvxQTcPMi3"
      }
    },
    {
      "cell_type": "code",
      "execution_count": 6,
      "metadata": {
        "colab": {
          "base_uri": "https://localhost:8080/"
        },
        "id": "gECqZEn5HFec",
        "outputId": "71616a1f-4eaa-4821-e534-5439c6a4fce2"
      },
      "outputs": [
        {
          "output_type": "execute_result",
          "data": {
            "text/plain": [
              "[17, 26, 31, 54, 77, 93]"
            ]
          },
          "metadata": {},
          "execution_count": 6
        }
      ],
      "source": [
        "def bubble_sort(li):\n",
        "    \"\"\"\n",
        "    # 문제 1.\n",
        "        거품정렬을 구현해주세요.\n",
        "        매개변수로 들어온 리스트를 오름차순으로 정렬해주세요.\n",
        "        단 매개변수로 들어오는 요소는 전부 정수입니다. \n",
        "\n",
        "        ex)\n",
        "            li = [54, 26, 93, 17, 77, 31]\n",
        "            bubble_sort(li)\n",
        "            print(li) # [17, 26, 31, 54, 77, 93]\n",
        "    \"\"\"\n",
        "    for i in range(len(li)):              # 0부터 리스트의 길이까지 1범주로 순차적으로 돌 것\n",
        "      for j in range(0,len(li)-i-1):      # 0부터 길이에서 -1,i만큼 뺀 범위만큼 돈다\n",
        "        if li[j] > li[j+1]:               # 만약 j번째가 j+1번째보다 크면\n",
        "          li[j], li[j+1] = li[j+1], li[j] # 위치를 바꿔준다\n",
        "    return li\n",
        "\n",
        "num1_li = [54, 26, 93, 17, 77, 31]\n",
        "bubble_sort(num1_li)"
      ]
    },
    {
      "cell_type": "markdown",
      "source": [
        "### 삽입정렬"
      ],
      "metadata": {
        "id": "-Ek9fseePODi"
      }
    },
    {
      "cell_type": "code",
      "source": [
        "def insertion_sort(li):\n",
        "    \"\"\"\n",
        "    # 문제 2.\n",
        "        삽입정렬을 구현해주세요.\n",
        "        매개변수로 들어온 리스트를 오름차순으로 정렬해주세요.\n",
        "        단 매개변수로 들어오는 요소는 전부 정수입니다. \n",
        "\n",
        "        ex)\n",
        "            li = [54, 26, 93, 17, 77, 31]\n",
        "            insertion_sort(li)\n",
        "            print(li) # [17, 26, 31, 54, 77, 93]\n",
        "    \"\"\"\n",
        "    for i in range(1,len(li)):            # 순차적으로 진행, [0]은 고정 [1]부터 시작\n",
        "      for j in range(i, 0, -1):           # i부터 역순으로 돌며\n",
        "        if li[j] < li[j-1]:               # j번째가 j-1보다 작으면\n",
        "          li[j], li[j-1] = li[j-1], li[j] # 위치를 바꿈\n",
        "        else:                             # j번째가 j-1보다 작지 않으면\n",
        "          break                           # 냅둠 break\n",
        "    return li\n",
        "\n",
        "\n",
        "li_2 = [54, 26, 93, 17, 77, 31]\n",
        "insertion_sort(li_2)"
      ],
      "metadata": {
        "colab": {
          "base_uri": "https://localhost:8080/"
        },
        "id": "Ssuu4Tn3Nqic",
        "outputId": "2a26f56c-a37c-486a-ea24-2d845093ae73"
      },
      "execution_count": 7,
      "outputs": [
        {
          "output_type": "execute_result",
          "data": {
            "text/plain": [
              "[17, 26, 31, 54, 77, 93]"
            ]
          },
          "metadata": {},
          "execution_count": 7
        }
      ]
    },
    {
      "cell_type": "code",
      "source": [
        "#Insertion Sort\n",
        "def Insertion_Sort(array):\n",
        "    for a in range(1, len(array)):\n",
        "        for b in range(a, 0, -1):\n",
        "            if array[b] < array[b-1]:\n",
        "                   array[b], array[b-1] = array[b-1], array[b]\n",
        "            else:\n",
        "                   break\n",
        "    return array\n",
        "\n",
        "\n",
        "\n",
        "print(Insertion_Sort(li_2))"
      ],
      "metadata": {
        "colab": {
          "base_uri": "https://localhost:8080/"
        },
        "id": "Bc2hZZZd6xJ_",
        "outputId": "3a1572d4-5743-4e12-8c5b-652083af73fb"
      },
      "execution_count": 8,
      "outputs": [
        {
          "output_type": "stream",
          "name": "stdout",
          "text": [
            "[17, 26, 31, 54, 77, 93]\n"
          ]
        }
      ]
    },
    {
      "cell_type": "markdown",
      "source": [
        "### 선택 정렬"
      ],
      "metadata": {
        "id": "JfeKxDFZU5hL"
      }
    },
    {
      "cell_type": "code",
      "source": [
        "def selection_sort(li):\n",
        "    \"\"\"\n",
        "    # 문제 3.\n",
        "        선택정렬을 구현해주세요.\n",
        "        매개변수로 들어온 리스트를 오름차순으로 정렬해주세요.\n",
        "        단 매개변수로 들어오는 요소는 전부 정수입니다. \n",
        "\n",
        "        ex)\n",
        "            li = [54, 26, 93, 17, 77, 31]\n",
        "            selection_sort(li)\n",
        "            print(li) # [17, 26, 31, 54, 77, 93]\n",
        "    \"\"\"\n",
        "    #전체에서 가장 작은 것 앞에 배치\n",
        "    for i in range(len(li)-1):                    # 1부터 리스트 -1만큼 반복\n",
        "      min_index = i                               # 가장 작은 값을 갖는 인덱스 저장\n",
        "      \n",
        "      # 뒤에 계산\n",
        "      for j in range(i+1,len(li)):                # i+1번째부터 끝까지 반복하며 아래 계산\n",
        "        if li[min_index] > li[j]:                 # min_index 값보다 작으면 \n",
        "          min_index = j                           # j를 min_index로 바꿔줌\n",
        "      li[min_index], li[i] = li[i], li[min_index] # 값 교환(바꿔줌)\n",
        "    return li\n",
        "\n",
        "li_3 = [54, 26, 93, 17, 77, 31]\n",
        "selection_sort(li_3)\n",
        "print(li_3)"
      ],
      "metadata": {
        "colab": {
          "base_uri": "https://localhost:8080/"
        },
        "id": "CE-1exTOUEkY",
        "outputId": "6c766046-062d-49af-f0d7-9d49fb383848"
      },
      "execution_count": 9,
      "outputs": [
        {
          "output_type": "stream",
          "name": "stdout",
          "text": [
            "[17, 26, 31, 54, 77, 93]\n"
          ]
        }
      ]
    },
    {
      "cell_type": "markdown",
      "source": [
        "[알고리즘 흐름 페이지](https://www.toptal.com/developers/sorting-algorithms)"
      ],
      "metadata": {
        "id": "1TdFOR9Uxfa5"
      }
    },
    {
      "cell_type": "code",
      "source": [
        "def print_to_zero_pos(n, result_list=list()):\n",
        "  if n == 0:\n",
        "    result_list.append(n)\n",
        "    return result_list\n",
        "  else:\n",
        "    result_list.append(n)\n",
        "    return print_to_zero_pos(n-1, result_list)\n",
        "  return result_list\n",
        "  \n",
        "print_to_zero_pos(5)"
      ],
      "metadata": {
        "colab": {
          "base_uri": "https://localhost:8080/"
        },
        "id": "g16vg-Yb6oiS",
        "outputId": "4a95c45f-ba41-4b42-d618-7c7a7ed788b4"
      },
      "execution_count": 1,
      "outputs": [
        {
          "output_type": "execute_result",
          "data": {
            "text/plain": [
              "[5, 4, 3, 2, 1, 0]"
            ]
          },
          "metadata": {},
          "execution_count": 1
        }
      ]
    },
    {
      "cell_type": "code",
      "source": [
        "def print_to_zero_neg(n, result_list):\n",
        "\t\"\"\"\n",
        "\t# 문제 2.\n",
        "\t\t-1 이하의 음수를 입력받아 입력받은 수부터 0까지 구하는 함수를 작성해주세요.\n",
        "\t\t재귀함수를 꼭 사용해주셔야합니다.\n",
        "\t\tresult_list안에 결과 값을 넣어주세요.\n",
        "\t\t(result_list를 어떻게 사용하는지는 아래 코드 사용 예제를 참고해주세요.)\n",
        "\n",
        "\t\t해당 코드 사용 예제\n",
        "\t\t\tneg = int(input(\"input : \")) # -3\n",
        "\t\t\tresult_list_neg = []\n",
        "\t\t\tprint_to_zero_neg(neg, result_list_neg)\n",
        "\t\t\tprint(result_list_neg) #[-3,-2,-1,0]\n",
        "\t\"\"\"\n",
        "\tif n == 0:\n",
        "\t\tresult_list.append(n)\n",
        "\t\treturn result_list\n",
        "\t\n",
        "\telse:\n",
        "\t\tresult_list.append(n)\n",
        "\t\treturn print_to_zero_neg(n+1,result_list)\n",
        "\n",
        "result_list_neg = []\n",
        "print_to_zero_neg(-5, result_list_neg)"
      ],
      "metadata": {
        "colab": {
          "base_uri": "https://localhost:8080/"
        },
        "id": "8b6mLi2I-UU9",
        "outputId": "c95dcee7-19cf-4ab0-e8ba-3099cd29f4bb"
      },
      "execution_count": 5,
      "outputs": [
        {
          "output_type": "execute_result",
          "data": {
            "text/plain": [
              "[-5, -4, -3, -2, -1, 0]"
            ]
          },
          "metadata": {},
          "execution_count": 5
        }
      ]
    },
    {
      "cell_type": "markdown",
      "source": [
        "### part2"
      ],
      "metadata": {
        "id": "xGcH6J3l3dgU"
      }
    },
    {
      "cell_type": "markdown",
      "source": [
        "## Sort Practice"
      ],
      "metadata": {
        "id": "k0ka8feZyb8J"
      }
    },
    {
      "cell_type": "code",
      "source": [
        "song_list = ['5취중고백', '4사랑은 늘 도망가', '1회전목마', '3ELEVEN', '2Counting Stars']\n",
        "song_list2 = []\n",
        "for i in song_list:\n",
        "    song_list2.append((i[0],i[1:]))\n",
        "\n",
        "print(song_list2)"
      ],
      "metadata": {
        "colab": {
          "base_uri": "https://localhost:8080/"
        },
        "id": "jQ3BAlElgDHG",
        "outputId": "e481f8d1-8e4c-4a51-8440-af7a6cc59837"
      },
      "execution_count": 10,
      "outputs": [
        {
          "output_type": "stream",
          "name": "stdout",
          "text": [
            "[('5', '취중고백'), ('4', '사랑은 늘 도망가'), ('1', '회전목마'), ('3', 'ELEVEN'), ('2', 'Counting Stars')]\n"
          ]
        }
      ]
    }
  ]
}
