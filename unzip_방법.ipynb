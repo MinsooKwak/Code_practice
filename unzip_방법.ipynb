{
  "nbformat": 4,
  "nbformat_minor": 0,
  "metadata": {
    "colab": {
      "name": "unzip 방법.ipynb",
      "provenance": [],
      "authorship_tag": "ABX9TyPtksl5kZgMY36+wIF623Tx",
      "include_colab_link": true
    },
    "kernelspec": {
      "name": "python3",
      "display_name": "Python 3"
    },
    "language_info": {
      "name": "python"
    }
  },
  "cells": [
    {
      "cell_type": "markdown",
      "metadata": {
        "id": "view-in-github",
        "colab_type": "text"
      },
      "source": [
        "<a href=\"https://colab.research.google.com/github/MinsooKwak/Code_practice/blob/main/unzip_%EB%B0%A9%EB%B2%95.ipynb\" target=\"_parent\"><img src=\"https://colab.research.google.com/assets/colab-badge.svg\" alt=\"Open In Colab\"/></a>"
      ]
    },
    {
      "cell_type": "markdown",
      "source": [
        "## Python unzip 하기"
      ],
      "metadata": {
        "id": "DMiqNq99VpA9"
      }
    },
    {
      "cell_type": "markdown",
      "source": [
        "위와 같은 방식으로 pandas의 read_json을 사용하여 json파일의 train dataset 설정과 test dataset 설정이 가능하지만, 현재 압축되어 있기 때문에 풀어주는 과정이 필요하다.\n",
        "\n",
        "```\n",
        "sample_submission.csv.7z\n",
        "test.json.7z\n",
        "train.json.7z\n",
        "```\n",
        "파이썬의 extractall() 함수를 통해 압축을 해제할 수 있다 한다. [참고](https://www.delftstack.com/ko/howto/python/python-unzip-file/)\n",
        "- 작업 디렉토리에\n",
        "- 다른 디렉토리에 (extractall 함수의 인수명을 설정해주면 됨)\n",
        "- 조건에 따라 ex) endswith('.txt')\n",
        "- unpack_archieve 메서드"
      ],
      "metadata": {
        "id": "GrnNOl2xVZOq"
      }
    },
    {
      "cell_type": "code",
      "execution_count": null,
      "metadata": {
        "id": "X3gMm_T6VV9P"
      },
      "outputs": [],
      "source": [
        "from zipfile import ZipFile\n",
        "'''\n",
        "test_file_name = \"test.json.7z\"\n",
        "train_file_name = \"train.json.7z\"\n",
        "\n",
        "# test file 압축 해제\n",
        "with ZipFile(test_file_name, 'r') as zip: # 'r'은 파일 읽기 작업\n",
        "  zip.printdir()\n",
        "  zip.extractall()                        # extractall은 zip 파일의 내용을 현재 디렉터리에 추출\n",
        "\n",
        "# train file 압축 해제\n",
        "with ZipFile(train_file_name,'r') as zip:\n",
        "  zip.printdir()\n",
        "  zip.extractall()\n",
        "\n",
        "# 여러 파일이 있을 경우 namelist()를 사용할 수 있음\n",
        "'''\n",
        "# BadZipFile error : File is not a zip file "
      ]
    },
    {
      "cell_type": "markdown",
      "source": [
        "\n",
        "여러 파일 압축 해제 예시 \n",
        "```\n",
        "with ZipFile('my_files.zip', 'r') as obj_zip:\n",
        "    FileNames = obj_zip.namelist()\n",
        "    for fileName in FileNames:\n",
        "        if fileName.endswith('.txt'):\n",
        "            zipObj.extract(fileName, 'temp_txt')\n",
        "```"
      ],
      "metadata": {
        "id": "4Ed6eROvVgiX"
      }
    }
  ]
}